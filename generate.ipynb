{
 "cells": [
  {
   "cell_type": "markdown",
   "metadata": {},
   "source": [
    "# Uniview module for Supernovae over time\n",
    "\n",
    "Data downloaded from The Open Supernova Catalog https://sne.space on Aug. 20, 2019\n",
    "\n",
    "LSST data from [PLAsTiCC Classification Challenge](https://zenodo.org/record/2539456#.XX-1apNKhTY).  Since this file is huge (1e6 SNe per year), I will only include one month of data -- Nov. 2023.  The user has an option to show both the past and future SN together with \"showBoth\", and the year separation.\n",
    "\n",
    "*Aaron Geller, 2019*\n",
    "\n",
    "### Imports and function definitions"
   ]
  },
  {
   "cell_type": "code",
   "execution_count": 1,
   "metadata": {},
   "outputs": [],
   "source": [
    "#This directory contains all the data needed for the module. It should be in the same directory as the notebook\n",
    "dataFolder = \"data\" \n",
    "import sys, os, shutil, errno, string, urllib\n",
    "\n",
    "\n",
    "sys.path.append(( os.path.abspath( os.path.join(os.path.realpath(\"__file__\"),  os.pardir, os.pardir) )))\n",
    "import uvmodlib.v1 as uvmod"
   ]
  },
  {
   "cell_type": "markdown",
   "metadata": {},
   "source": [
    "### USES Conf Template "
   ]
  },
  {
   "cell_type": "code",
   "execution_count": 19,
   "metadata": {},
   "outputs": [],
   "source": [
    "Template = \"\"\"mesh\n",
    "{  \n",
    "    data SNdata ./modules/SNvTime/SNdata.raw\n",
    "    #data SNdata ./modules/SNvTime/SNdataSmall.raw\n",
    "    data  quad ./modules/SNvTime/quad.3ds\n",
    "    data  quad2 ./modules/SNvTime/ScreenAlignedQuad.3ds\n",
    "\n",
    "    dataHints SNdata disablePostprocessing\n",
    "    \n",
    "    cullRadius 10000.0\n",
    "    glslVersion 330\n",
    "    \n",
    "    propertyCollection \n",
    "    {        \n",
    "        __objectName__\n",
    "        {           \n",
    "\n",
    "            vec1f radiusScale 1 | public | desc \"point size scale\" | widget slider | range 0 10\n",
    "            vec1f SNduration 0.1 | public | desc \"duration of SN light curve\" | widget slider | range 0 100\n",
    "            vec1f SNtmin 1885 | public | desc \"minimum time to show the SN\" | widget slider | range 1885 2020\n",
    "            vec1f SNangleMax 1.5 | public | desc \"max angular size of SN circle\" | widget slider | range 0 30\n",
    "            vec1f SNangleMin 0.1 | public | desc \"min angular size of SN circle\" | widget slider | range 0 3\n",
    "            bool fadeOutSN true | public  | desc \"fade off SN\"     \n",
    "            bool showBoth false | public  | desc \"show both past and future SNe\"     \n",
    "            vec1f bothYr 5 | public  | desc \"year offset between past and future SNe\" | widget slider | range 5 60\n",
    "\n",
    "            bool useUniviewTime false | public  | desc \"use Uniview time?\" \n",
    "            \n",
    "            vec1f eventTime 2020 | public | desc \"event time \" | widget slider | range 1885 2024\n",
    "            vec1f transitionLength 5 | public | desc \"transition length in seconds\" \n",
    "            bool jump true | public  | desc \"jump to time without transition\"     \n",
    "            \n",
    "            # Properties for the date counter\n",
    "            vec1f counterAzimuth 0.0  | public | desc \"azimuth of the counter in degrees\" | widget slider | range  -180 180             \n",
    "            vec1f counterAltitude 10.0  | public |  desc \"altitude of the counter in degrees\" | widget slider | range  -30 30      \n",
    "            vec2f counterSize 20 6  | public | desc \"angular size of the counter in degrees\"     \n",
    "            vec1f counterDepth 0.01  | public | desc \"depth of the counter in 3d space\"\n",
    "            vec3f counterColor 1 1 1  | public | desc \"color of the counter\" | widget color_rgb\n",
    "            vec1f counterAlpha 1  | public | desc \"opacity of the counter\" | widget slider | range  0 1  \n",
    "\n",
    "        }\n",
    "    }\n",
    "\n",
    "    ############# to hold the time information for SN\n",
    "    renderTexture\n",
    "    {\n",
    "        name                      stateTexture\n",
    "        width                     1\n",
    "        height                    1\n",
    "        numTextures               1\n",
    "        isPingPong                true\n",
    "        isPersistent              true\n",
    "        isFramePersistent         true\n",
    "        internalTextureFormat     GL_RGB32F\n",
    "        magnify                   GL_NEAREST\n",
    "        minify                    GL_NEAREST\n",
    "    }\n",
    "    ############# set Transition State\n",
    "    pass \n",
    "    {\n",
    "        useDataObject quad\n",
    "        renderTarget\n",
    "        {\n",
    "            name stateTexture\n",
    "            enableColorClear false\n",
    "        }\n",
    "         shader\n",
    "        {\n",
    "            type defaultMeshShader\n",
    "            {\n",
    "                vertexShader   ./modules/SNvTime/pass0.vs\n",
    "                fragmentShader ./modules/SNvTime/state.fs\n",
    "                textureFBO stateTexture stateTexture\n",
    "                stateManagerVar __objectName__.transitionLength transitionLength \n",
    "                stateManagerVar __objectName__.jump jump \n",
    "                stateManagerVar __objectName__.eventTime eventTime \n",
    "                parameter2f timeRange 1885 2024\n",
    "           }\n",
    "        }      \n",
    "    }\n",
    "    \n",
    "    \n",
    "    ############# SN v Time\n",
    "    pass\n",
    "    {\n",
    "        useDataObject SNdata\n",
    "        shader\n",
    "        {\n",
    "            type defaultMeshShader\n",
    "            {\n",
    "                geometryShader   ./modules/SNvTime/SNvtime.gs\n",
    "                vertexShader ./modules/SNvTime/SNvtime.vs\n",
    "                fragmentShader   ./modules/SNvTime/SNvtime.fs\n",
    "                textureFBO stateTexture stateTexture\n",
    "                #texture cmap1 ./modules/SNvTime/cmap1.png\n",
    "                #{             \n",
    "                #    wrapModeS GL_CLAMP_TO_EDGE\n",
    "                #    wrapModeR GL_CLAMP_TO_EDGE\n",
    "                #    colorspace linear\n",
    "                #}\n",
    "                #texture cmap2 ./modules/SNvTime/cmap2.png\n",
    "                #{             \n",
    "                #    wrapModeS GL_CLAMP_TO_EDGE\n",
    "                #    wrapModeR GL_CLAMP_TO_EDGE\n",
    "                #    colorspace linear\n",
    "                #}                \n",
    "                stateManagerVar __objectName__.radiusScale  radiusScale\n",
    "                stateManagerVar __objectName__.SNduration  SNduration\n",
    "                stateManagerVar __objectName__.SNtmin  SNtmin\n",
    "                stateManagerVar __objectName__.SNangleMax  SNangleMax\n",
    "                stateManagerVar __objectName__.SNangleMin  SNangleMin\n",
    "                stateManagerVar __objectName__.fadeOutSN  fadeOutSN\n",
    "                stateManagerVar __objectName__.showBoth  showBoth\n",
    "                stateManagerVar __objectName__.bothYr  bothYr\n",
    "                stateManagerVar __objectName__.useUniviewTime  useUniviewTime\n",
    "                \n",
    "                glState\n",
    "                {\n",
    "                    UV_CULL_FACE_ENABLE false\n",
    "                    UV_BLEND_ENABLE true\n",
    "                    UV_DEPTH_ENABLE false\n",
    "                    UV_WRITE_MASK_DEPTH true\n",
    "                    UV_BLEND_FUNC GL_SRC_ALPHA GL_ONE_MINUS_SRC_ALPHA\n",
    "                }\n",
    "            }\n",
    "\n",
    "        }    \n",
    "    }\n",
    " \n",
    "    ############# Time label\n",
    "    pass \n",
    "    {\n",
    "        passEnable true\n",
    "        passScale 2e3 #it looks like smaller values of this allow it to be viewed closer to Earth\n",
    "        useDataObject quad2\n",
    "        shader\n",
    "        {\n",
    "            type defaultMeshShader\n",
    "            {\n",
    "                vertexShader      ./modules/SNvTime/imagePass.vs\n",
    "                fragmentShader    ./modules/SNvTime/numbersPass.fs\n",
    "                textureFBO stateTexture stateTexture\n",
    "                                \n",
    "                stateManagerVar __objectName__.counterAzimuth azimuth\n",
    "                stateManagerVar __objectName__.counterAltitude altitude\n",
    "                stateManagerVar __objectName__.counterSize imageQuadSize\n",
    "                stateManagerVar __objectName__.counterDepth imageDepth\n",
    "                stateManagerVar __objectName__.counterColor imageColor\n",
    "                stateManagerVar __objectName__.counterAlpha imageAlpha\n",
    "                stateManagerVar __objectName__.Alpha uv_alpha\n",
    "                stateManagerVar __objectName__.useUniviewTime  useUniviewTime\n",
    "    \n",
    "                texture numbersTex ./modules/SNvTime/BigNumbers.dds\n",
    "                {\n",
    "                }  \n",
    "     \n",
    "                glState\n",
    "                {\n",
    "                    UV_CULL_FACE_ENABLE false\n",
    "                    UV_BLEND_ENABLE true\n",
    "                    UV_POLY_FRONT_AND_BACK_MODE GL_FILL\n",
    "                }   \n",
    "            }\n",
    "        }   \n",
    "    }\n",
    "    \n",
    "}\"\"\""
   ]
  },
  {
   "cell_type": "markdown",
   "metadata": {},
   "source": [
    "### SN class"
   ]
  },
  {
   "cell_type": "code",
   "execution_count": 20,
   "metadata": {},
   "outputs": [],
   "source": [
    "class SNClass():\n",
    "    def __init__(self, object):\n",
    "        self.object = object\n",
    "        uvmod.Utility.ensurerelativepathexsists(\"SNvtime.gs\",dataFolder)\n",
    "        uvmod.Utility.ensurerelativepathexsists(\"SNvtime.vs\",dataFolder)\n",
    "        uvmod.Utility.ensurerelativepathexsists(\"SNvtime.fs\",dataFolder)\n",
    "        uvmod.Utility.ensurerelativepathexsists(\"state.fs\",dataFolder)\n",
    "        uvmod.Utility.ensurerelativepathexsists(\"pass0.vs\",dataFolder)\n",
    "        self.cr = 1000\n",
    "        self.Scale = 1\n",
    "\n",
    "    def generatemod(self):\n",
    "        self.object.setgeometry(self.object.name+\"Mesh.usesconf\")\n",
    "        return self.object.generatemod()\n",
    "    def generatefiles(self, absOutDir, relOutDir):\n",
    "        fileName = self.object.name+\"Mesh.usesconf\"\n",
    "        s = string.Template(Template)\n",
    "        f = open(absOutDir+\"\\\\\"+fileName, 'w')\n",
    "        if f:\n",
    "            f.write(s.substitute(folderName = relOutDir,\n",
    "                                 cr = self.cr,\n",
    "                                 Scale = self.Scale\n",
    "                                 ))\n",
    "            f.close()\n",
    "        uvmod.Utility.copyfoldercontents(os.getcwd()+\"\\\\\"+dataFolder, absOutDir)"
   ]
  },
  {
   "cell_type": "markdown",
   "metadata": {},
   "source": [
    "### Object Instantiation"
   ]
  },
  {
   "cell_type": "code",
   "execution_count": 21,
   "metadata": {},
   "outputs": [],
   "source": [
    "model = SNClass(uvmod.OrbitalObject())\n",
    "scene = uvmod.Scene()\n",
    "parentScene = uvmod.Scene()\n",
    "modinfo = uvmod.ModuleInformation()\n",
    "generator = uvmod.Generator()"
   ]
  },
  {
   "cell_type": "markdown",
   "metadata": {},
   "source": [
    "### Specify Settings and generate the module"
   ]
  },
  {
   "cell_type": "code",
   "execution_count": 22,
   "metadata": {},
   "outputs": [],
   "source": [
    "scene.setname(\"SNvTime\")\n",
    "scene.setparent(\"Extragalactic\")\n",
    "scene.setunit(3.09e22) #km to Mpc\n",
    "#scene.setunit(1.0e6) #pc to Mpc\n",
    "#scene.setunit(1) #already in units of Mpc?\n",
    "#scene.setentrydist(1e5)\n",
    "\n",
    "model.object.setcameraradius(1e-3) #near plane clipping?\n",
    "model.object.setcoord(scene.name)\n",
    "model.object.setname(\"SNvTime\")\n",
    "model.object.setguiname(\"/KavliLecture/Zooniverse/SNvTime\")\n",
    "model.object.settargetradius(100)\n",
    "model.object.showatstartup(False)\n",
    "model.cr = 1e4 #far plane clipping?\n",
    "\n",
    "modinfo.setname(\"SNvTime\")\n",
    "modinfo.setauthor(\"Aaron Geller<sup>1</sup>, Laura Trouille<sup>1</sup>, Chris Lintott<sup>2</sup> <br />(1)Adler Planetarium,<br />(2)Oxford University,\")\n",
    "modinfo.cleardependencies()\n",
    "modinfo.setdesc(\"Uniview module for a SN vs time.  Data are from The Open Supernova Catalog: https://sne.space , and the PLAsTiCC Classification Challenge : https://zenodo.org/record/2539456#.XX-1apNKhTY .\")\n",
    "modinfo.setthumbnail(\"data/SNvTimeSnapshot.png\")\n",
    "modinfo.setversion(\"1.0\")\n",
    "\n",
    "generator.generate(\"SNvTime\",[scene],[model],modinfo)\n",
    "uvmod.Utility.senduvcommand(model.object.name+\".reload\")\n"
   ]
  },
  {
   "cell_type": "markdown",
   "metadata": {},
   "source": [
    "## To reload"
   ]
  },
  {
   "cell_type": "code",
   "execution_count": 6,
   "metadata": {},
   "outputs": [],
   "source": [
    "from config import Settings"
   ]
  },
  {
   "cell_type": "code",
   "execution_count": 18,
   "metadata": {},
   "outputs": [],
   "source": [
    "uvmod.Utility.copyfoldercontents(os.getcwd()+\"\\\\\"+dataFolder, Settings.uvcustommodulelocation+'\\\\'+model.object.name)\n",
    "uvmod.Utility.senduvcommand(model.object.name+\".reload\")"
   ]
  },
  {
   "cell_type": "markdown",
   "metadata": {},
   "source": [
    "### Create colormap texture"
   ]
  },
  {
   "cell_type": "code",
   "execution_count": 25,
   "metadata": {},
   "outputs": [],
   "source": [
    "import numpy as np\n",
    "import matplotlib.pyplot as plt\n",
    "from matplotlib import cm\n",
    "%matplotlib inline"
   ]
  },
  {
   "cell_type": "code",
   "execution_count": 26,
   "metadata": {},
   "outputs": [
    {
     "data": {
      "image/png": "[encoded data removed]",
      "text/plain": [
       "<matplotlib.figure.Figure at 0x1feef092c50>"
      ]
     },
     "metadata": {},
     "output_type": "display_data"
    }
   ],
   "source": [
    "gradient = np.linspace(0, 1, 256)\n",
    "gradient = np.vstack((gradient, gradient))\n",
    "\n",
    "def plot_cmap(colormap, fname):\n",
    "    fig=plt.imshow(gradient, aspect=1, cmap=colormap)\n",
    "    plt.axis('off')\n",
    "    fig.axes.get_xaxis().set_visible(False)\n",
    "    fig.axes.get_yaxis().set_visible(False)\n",
    "    plt.savefig(fname, bbox_inches='tight',pad_inches=0)\n",
    "\n",
    "#plot_cmap('tab20')\n",
    "plot_cmap('cool',\"data/cmap1.png\")\n",
    "plot_cmap('hot',\"data/cmap2.png\")"
   ]
  },
  {
   "cell_type": "code",
   "execution_count": null,
   "metadata": {},
   "outputs": [],
   "source": []
  }
 ],
 "metadata": {
  "anaconda-cloud": {},
  "kernelspec": {
   "display_name": "Python 3",
   "language": "python",
   "name": "python3"
  },
  "language_info": {
   "codemirror_mode": {
    "name": "ipython",
    "version": 3
   },
   "file_extension": ".py",
   "mimetype": "text/x-python",
   "name": "python",
   "nbconvert_exporter": "python",
   "pygments_lexer": "ipython3",
   "version": "3.6.4"
  }
 },
 "nbformat": 4,
 "nbformat_minor": 1
}

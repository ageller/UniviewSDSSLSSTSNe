{
 "cells": [
  {
   "cell_type": "markdown",
   "metadata": {},
   "source": [
    "# Uniview module showing SNe in the SDSS galaxies on the LSST discovery rate\n",
    "\n",
    "LSST cadence data from [PLAsTiCC Classification Challenge](https://zenodo.org/record/2539456#.XX-1apNKhTY).  Using all the SDSS spiral galaxies in our data set, this covers about 1/4 year (2023) of LSST observations.\n",
    "\n",
    "*Aaron Geller, 2019*\n",
    "\n",
    "### Imports and function definitions"
   ]
  },
  {
   "cell_type": "code",
   "execution_count": 7,
   "metadata": {},
   "outputs": [],
   "source": [
    "#This directory contains all the data needed for the module. It should be in the same directory as the notebook\n",
    "dataFolder = \"data\" \n",
    "import sys, os, shutil, errno, string, urllib\n",
    "\n",
    "\n",
    "sys.path.append(( os.path.abspath( os.path.join(os.path.realpath(\"__file__\"),  os.pardir, os.pardir) )))\n",
    "import uvmodlib.v1 as uvmod"
   ]
  },
  {
   "cell_type": "markdown",
   "metadata": {},
   "source": [
    "### USES Conf Template "
   ]
  },
  {
   "cell_type": "code",
   "execution_count": 34,
   "metadata": {},
   "outputs": [],
   "source": [
    "Template = \"\"\"mesh\n",
    "{  \n",
    "    data SNdata ./modules/SDSS_LSST_SNe/SDSSLSSTSNe.raw\n",
    "\n",
    "    dataHints SNdata disablePostprocessing\n",
    "    \n",
    "    cullRadius 10000.0\n",
    "    glslVersion 330\n",
    "    \n",
    "    propertyCollection \n",
    "    {        \n",
    "        __objectName__\n",
    "        {           \n",
    "\n",
    "            vec1f radiusScale 6 | public | desc \"point size scale\" | widget slider | range 0 10\n",
    "            vec1f SNduration 0.0001 | public | desc \"duration of SN light curve\" | widget slider | range 0 0.01\n",
    "            vec1f SNangleMax 1.5 | public | desc \"max angular size of SN circle\" | widget slider | range 0 30\n",
    "            vec1f SNangleMin 0.1 | public | desc \"min angular size of SN circle\" | widget slider | range 0 3\n",
    "\n",
    "        }\n",
    "    }\n",
    "    \n",
    "    #############\n",
    "    pass\n",
    "    {\n",
    "        useDataObject SNdata\n",
    "        shader\n",
    "        {\n",
    "            type defaultMeshShader\n",
    "            {\n",
    "                geometryShader   ./modules/SDSS_LSST_SNe/SNvtime.gs\n",
    "                vertexShader ./modules/SDSS_LSST_SNe/SNvtime.vs\n",
    "                fragmentShader   ./modules/SDSS_LSST_SNe/SNvtime.fs\n",
    "                \n",
    "                stateManagerVar __objectName__.radiusScale  radiusScale\n",
    "                stateManagerVar __objectName__.SNduration  SNduration\n",
    "                stateManagerVar __objectName__.SNangleMax  SNangleMax\n",
    "                stateManagerVar __objectName__.SNangleMin  SNangleMin\n",
    "                \n",
    "                glState\n",
    "                {\n",
    "                    UV_CULL_FACE_ENABLE false\n",
    "                    UV_BLEND_ENABLE true\n",
    "                    UV_DEPTH_ENABLE false\n",
    "                    UV_WRITE_MASK_DEPTH true\n",
    "                    UV_BLEND_FUNC GL_SRC_ALPHA GL_ONE_MINUS_SRC_ALPHA\n",
    "                }\n",
    "            }\n",
    "\n",
    "        }    \n",
    "    }\n",
    " \n",
    "\n",
    "    \n",
    "}\"\"\""
   ]
  },
  {
   "cell_type": "markdown",
   "metadata": {},
   "source": [
    "### SN class"
   ]
  },
  {
   "cell_type": "code",
   "execution_count": 35,
   "metadata": {},
   "outputs": [],
   "source": [
    "class SNClass():\n",
    "    def __init__(self, object):\n",
    "        self.object = object\n",
    "        uvmod.Utility.ensurerelativepathexsists(\"SNvtime.gs\",dataFolder)\n",
    "        uvmod.Utility.ensurerelativepathexsists(\"SNvtime.vs\",dataFolder)\n",
    "        uvmod.Utility.ensurerelativepathexsists(\"SNvtime.fs\",dataFolder)\n",
    "        self.cr = 1000\n",
    "        self.Scale = 1\n",
    "\n",
    "    def generatemod(self):\n",
    "        self.object.setgeometry(self.object.name+\"Mesh.usesconf\")\n",
    "        return self.object.generatemod()\n",
    "    def generatefiles(self, absOutDir, relOutDir):\n",
    "        fileName = self.object.name+\"Mesh.usesconf\"\n",
    "        s = string.Template(Template)\n",
    "        f = open(absOutDir+\"\\\\\"+fileName, 'w')\n",
    "        if f:\n",
    "            f.write(s.substitute(folderName = relOutDir,\n",
    "                                 cr = self.cr,\n",
    "                                 Scale = self.Scale\n",
    "                                 ))\n",
    "            f.close()\n",
    "        uvmod.Utility.copyfoldercontents(os.getcwd()+\"\\\\\"+dataFolder, absOutDir)"
   ]
  },
  {
   "cell_type": "markdown",
   "metadata": {},
   "source": [
    "### Object Instantiation"
   ]
  },
  {
   "cell_type": "code",
   "execution_count": 36,
   "metadata": {},
   "outputs": [],
   "source": [
    "model = SNClass(uvmod.OrbitalObject())\n",
    "scene = uvmod.Scene()\n",
    "parentScene = uvmod.Scene()\n",
    "modinfo = uvmod.ModuleInformation()\n",
    "generator = uvmod.Generator()"
   ]
  },
  {
   "cell_type": "markdown",
   "metadata": {},
   "source": [
    "### Specify Settings and generate the module"
   ]
  },
  {
   "cell_type": "code",
   "execution_count": 37,
   "metadata": {},
   "outputs": [],
   "source": [
    "scene.setname(\"SDSS_LSST_SNe\")\n",
    "scene.setparent(\"Extragalactic\")\n",
    "scene.setunit(3.09e22) #km to Mpc\n",
    "\n",
    "\n",
    "model.object.setcameraradius(1e-3) #near plane clipping?\n",
    "model.object.setcoord(scene.name)\n",
    "model.object.setname(\"SDSS_LSST_SNe\")\n",
    "model.object.setguiname(\"/KavliLecture/Zooniverse/SDSS_LSST_SNe\")\n",
    "model.object.settargetradius(100)\n",
    "model.object.showatstartup(False)\n",
    "model.cr = 1e4 #far plane clipping?\n",
    "\n",
    "modinfo.setname(\"SDSS_LSST_SNe\")\n",
    "modinfo.setauthor(\"Aaron Geller<sup>1</sup>, Laura Trouille<sup>1</sup>, Chris Lintott<sup>2</sup> <br />(1)Adler Planetarium,<br />(2)Oxford University,\")\n",
    "modinfo.cleardependencies()\n",
    "modinfo.setdesc(\"Uniview module for showing SNe in the SDSS spiral galaxies at the expected LSST discovery rate, over 1/4 year 2023.  Rate is taken from the PLAsTiCC Classification Challenge : https://zenodo.org/record/2539456#.XX-1apNKhTY .\")\n",
    "#modinfo.setthumbnail(\"data/SNvTimeSnapshot.png\")\n",
    "modinfo.setversion(\"1.0\")\n",
    "\n",
    "generator.generate(\"SDSS_LSST_SNe\",[scene],[model],modinfo)\n",
    "uvmod.Utility.senduvcommand(model.object.name+\".reload\")\n"
   ]
  },
  {
   "cell_type": "markdown",
   "metadata": {},
   "source": [
    "## To reload"
   ]
  },
  {
   "cell_type": "code",
   "execution_count": 21,
   "metadata": {},
   "outputs": [],
   "source": [
    "from config import Settings"
   ]
  },
  {
   "cell_type": "code",
   "execution_count": 23,
   "metadata": {},
   "outputs": [],
   "source": [
    "uvmod.Utility.copyfoldercontents(os.getcwd()+\"\\\\\"+dataFolder, Settings.uvcustommodulelocation+'\\\\'+model.object.name)\n",
    "uvmod.Utility.senduvcommand(model.object.name+\".reload\")"
   ]
  },
  {
   "cell_type": "code",
   "execution_count": null,
   "metadata": {},
   "outputs": [],
   "source": []
  }
 ],
 "metadata": {
  "anaconda-cloud": {},
  "kernelspec": {
   "display_name": "Python 3",
   "language": "python",
   "name": "python3"
  },
  "language_info": {
   "codemirror_mode": {
    "name": "ipython",
    "version": 3
   },
   "file_extension": ".py",
   "mimetype": "text/x-python",
   "name": "python",
   "nbconvert_exporter": "python",
   "pygments_lexer": "ipython3",
   "version": "3.7.3"
  }
 },
 "nbformat": 4,
 "nbformat_minor": 1
}
